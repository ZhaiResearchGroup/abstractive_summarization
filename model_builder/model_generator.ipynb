{
 "cells": [
  {
   "cell_type": "code",
   "execution_count": 50,
   "metadata": {
    "collapsed": true
   },
   "outputs": [],
   "source": [
    "import sys\n",
    "sys.path.append(\"..\") # allows for cross-directory imports\n",
    "\n",
    "from corpus_building import dataset_loader\n",
    "from model_train import train_model, get_new_model\n",
    "\n",
    "import os\n",
    "import gensim"
   ]
  },
  {
   "cell_type": "code",
   "execution_count": 51,
   "metadata": {
    "collapsed": true
   },
   "outputs": [],
   "source": [
    "def get_file_in_dir(file_list, filename_keyword):\n",
    "    for filename in file_list:\n",
    "        if filename_keyword in filename:\n",
    "            return filename\n",
    "    return None"
   ]
  },
  {
   "cell_type": "code",
   "execution_count": 52,
   "metadata": {
    "collapsed": true
   },
   "outputs": [],
   "source": [
    "chunk_size = 500\n",
    "model_dir = '../model/'\n",
    "dataset_dir = '../corpus/'"
   ]
  },
  {
   "cell_type": "code",
   "execution_count": 53,
   "metadata": {
    "collapsed": true
   },
   "outputs": [],
   "source": [
    "sentences = dataset_loader.load_all_sentences(dataset_dir)\n",
    "training_corpus = [gensim.models.doc2vec.TaggedDocument(sen, [i]) for (i, sen) in enumerate(sentences)]"
   ]
  },
  {
   "cell_type": "code",
   "execution_count": 54,
   "metadata": {},
   "outputs": [
    {
     "name": "stdout",
     "output_type": "stream",
     "text": [
      "Model is fully trained on the apnews dataset. No more training will occur.\n"
     ]
    }
   ],
   "source": [
    "filenames = os.listdir(model_dir)\n",
    "model_filename = get_file_in_dir(filenames, '.model')\n",
    "index_filename = get_file_in_dir(filenames, '.txt')\n",
    "\n",
    "model_path = (model_dir + model_filename) if model_filename is not None else None\n",
    "index_path = (model_dir + index_filename) if index_filename is not None else None\n",
    "\n",
    "num_files = sum([1 if filename != '.ipynb_checkpoints' else 0 for filename in filenames])\n",
    "\n",
    "index = 0\n",
    "fully_trained = False\n",
    "\n",
    "if num_files == 0:\n",
    "    print('No existing model found. Using new model.')\n",
    "    model = get_new_model(training_corpus)\n",
    "elif num_files == 1:\n",
    "    print('Model is fully trained on the apnews dataset. No more training will occur.') \n",
    "    fully_trained = True\n",
    "else:\n",
    "    print('Using existing model.')\n",
    "    index = int(open(index_path, 'r').readlines()[0].replace('\\n', ''))\n",
    "    model = gensim.models.doc2vec.Doc2Vec.load(model_path)\n",
    "    \n",
    "if not fully_trained:\n",
    "    print('Beginning training.')\n",
    "\n",
    "    train_model(model, training_corpus, chunk_size, index)\n",
    "\n",
    "    print('Training Finished.')\n",
    "    \n",
    "    # remove index file on train finish\n",
    "    if index_path is not None:\n",
    "        os.remove(index_path)\n",
    "\n",
    "    model.save('../model/apnews_sen_model.model')\n",
    "\n",
    "    print('Model Saved.')"
   ]
  },
  {
   "cell_type": "code",
   "execution_count": null,
   "metadata": {
    "collapsed": true
   },
   "outputs": [],
   "source": []
  }
 ],
 "metadata": {
  "kernelspec": {
   "display_name": "Python 3",
   "language": "python",
   "name": "python3"
  },
  "language_info": {
   "codemirror_mode": {
    "name": "ipython",
    "version": 3
   },
   "file_extension": ".py",
   "mimetype": "text/x-python",
   "name": "python",
   "nbconvert_exporter": "python",
   "pygments_lexer": "ipython3",
   "version": "3.6.2"
  }
 },
 "nbformat": 4,
 "nbformat_minor": 2
}
